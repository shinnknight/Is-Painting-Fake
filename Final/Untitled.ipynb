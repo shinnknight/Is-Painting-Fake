{
 "cells": [
  {
   "cell_type": "code",
   "execution_count": 136,
   "metadata": {
    "collapsed": true
   },
   "outputs": [],
   "source": [
    "#! /usr/bin/python  \n",
    "import numpy as np  \n",
    "import xgboost as xgb\n",
    "import pandas as pd\n",
    "  "
   ]
  },
  {
   "cell_type": "code",
   "execution_count": 227,
   "metadata": {
    "scrolled": false
   },
   "outputs": [
    {
     "data": {
      "text/html": [
       "<div>\n",
       "<style>\n",
       "    .dataframe thead tr:only-child th {\n",
       "        text-align: right;\n",
       "    }\n",
       "\n",
       "    .dataframe thead th {\n",
       "        text-align: left;\n",
       "    }\n",
       "\n",
       "    .dataframe tbody tr th {\n",
       "        vertical-align: top;\n",
       "    }\n",
       "</style>\n",
       "<table border=\"1\" class=\"dataframe\">\n",
       "  <thead>\n",
       "    <tr style=\"text-align: right;\">\n",
       "      <th></th>\n",
       "      <th>offering_launch_date</th>\n",
       "      <th>offering_size</th>\n",
       "      <th>minimum_investment_amount</th>\n",
       "      <th>maximum_investment_amount</th>\n",
       "      <th>investor_yield</th>\n",
       "      <th>term</th>\n",
       "      <th>seconds</th>\n",
       "    </tr>\n",
       "  </thead>\n",
       "  <tbody>\n",
       "    <tr>\n",
       "      <th>0</th>\n",
       "      <td>1295</td>\n",
       "      <td>600000.0</td>\n",
       "      <td>5000.0</td>\n",
       "      <td>240000.0</td>\n",
       "      <td>13.0</td>\n",
       "      <td>36</td>\n",
       "      <td>7153223</td>\n",
       "    </tr>\n",
       "    <tr>\n",
       "      <th>1</th>\n",
       "      <td>1218</td>\n",
       "      <td>700000.0</td>\n",
       "      <td>5000.0</td>\n",
       "      <td>280000.0</td>\n",
       "      <td>13.0</td>\n",
       "      <td>36</td>\n",
       "      <td>1350059</td>\n",
       "    </tr>\n",
       "    <tr>\n",
       "      <th>2</th>\n",
       "      <td>1213</td>\n",
       "      <td>270300.0</td>\n",
       "      <td>5000.0</td>\n",
       "      <td>270300.0</td>\n",
       "      <td>20.0</td>\n",
       "      <td>18</td>\n",
       "      <td>1209600</td>\n",
       "    </tr>\n",
       "    <tr>\n",
       "      <th>3</th>\n",
       "      <td>1195</td>\n",
       "      <td>800000.0</td>\n",
       "      <td>5000.0</td>\n",
       "      <td>25000.0</td>\n",
       "      <td>13.0</td>\n",
       "      <td>36</td>\n",
       "      <td>77126431</td>\n",
       "    </tr>\n",
       "    <tr>\n",
       "      <th>4</th>\n",
       "      <td>1175</td>\n",
       "      <td>250000.0</td>\n",
       "      <td>5000.0</td>\n",
       "      <td>260000.0</td>\n",
       "      <td>15.0</td>\n",
       "      <td>19</td>\n",
       "      <td>1555200</td>\n",
       "    </tr>\n",
       "  </tbody>\n",
       "</table>\n",
       "</div>"
      ],
      "text/plain": [
       "   offering_launch_date  offering_size  minimum_investment_amount  \\\n",
       "0                  1295       600000.0                     5000.0   \n",
       "1                  1218       700000.0                     5000.0   \n",
       "2                  1213       270300.0                     5000.0   \n",
       "3                  1195       800000.0                     5000.0   \n",
       "4                  1175       250000.0                     5000.0   \n",
       "\n",
       "   maximum_investment_amount  investor_yield  term   seconds  \n",
       "0                   240000.0            13.0    36   7153223  \n",
       "1                   280000.0            13.0    36   1350059  \n",
       "2                   270300.0            20.0    18   1209600  \n",
       "3                    25000.0            13.0    36  77126431  \n",
       "4                   260000.0            15.0    19   1555200  "
      ]
     },
     "execution_count": 227,
     "metadata": {},
     "output_type": "execute_result"
    }
   ],
   "source": [
    "# label need to be 0 to num_class -1  \n",
    "# if col 33 is '?' let it be 1 else 0, col 34 substract 1  \n",
    "data = pd.read_csv('/Users/tinggao/Documents/CU course/YieldStreet/wd/trydt.csv')\n",
    "# data = data.drop(list(data.columns[[0,1,2,9]]),axis=1)\n",
    "data.head(5)"
   ]
  },
  {
   "cell_type": "code",
   "execution_count": 228,
   "metadata": {},
   "outputs": [
    {
     "data": {
      "text/html": [
       "<div>\n",
       "<style>\n",
       "    .dataframe thead tr:only-child th {\n",
       "        text-align: right;\n",
       "    }\n",
       "\n",
       "    .dataframe thead th {\n",
       "        text-align: left;\n",
       "    }\n",
       "\n",
       "    .dataframe tbody tr th {\n",
       "        vertical-align: top;\n",
       "    }\n",
       "</style>\n",
       "<table border=\"1\" class=\"dataframe\">\n",
       "  <thead>\n",
       "    <tr style=\"text-align: right;\">\n",
       "      <th></th>\n",
       "      <th>offering_launch_date</th>\n",
       "      <th>offering_size</th>\n",
       "      <th>minimum_investment_amount</th>\n",
       "      <th>maximum_investment_amount</th>\n",
       "      <th>investor_yield</th>\n",
       "      <th>term</th>\n",
       "      <th>seconds</th>\n",
       "    </tr>\n",
       "  </thead>\n",
       "  <tbody>\n",
       "    <tr>\n",
       "      <th>0</th>\n",
       "      <td>1295</td>\n",
       "      <td>600000.0</td>\n",
       "      <td>5000.0</td>\n",
       "      <td>240000.0</td>\n",
       "      <td>13.0</td>\n",
       "      <td>36</td>\n",
       "      <td>0</td>\n",
       "    </tr>\n",
       "    <tr>\n",
       "      <th>1</th>\n",
       "      <td>1218</td>\n",
       "      <td>700000.0</td>\n",
       "      <td>5000.0</td>\n",
       "      <td>280000.0</td>\n",
       "      <td>13.0</td>\n",
       "      <td>36</td>\n",
       "      <td>0</td>\n",
       "    </tr>\n",
       "    <tr>\n",
       "      <th>2</th>\n",
       "      <td>1213</td>\n",
       "      <td>270300.0</td>\n",
       "      <td>5000.0</td>\n",
       "      <td>270300.0</td>\n",
       "      <td>20.0</td>\n",
       "      <td>18</td>\n",
       "      <td>0</td>\n",
       "    </tr>\n",
       "    <tr>\n",
       "      <th>3</th>\n",
       "      <td>1195</td>\n",
       "      <td>800000.0</td>\n",
       "      <td>5000.0</td>\n",
       "      <td>25000.0</td>\n",
       "      <td>13.0</td>\n",
       "      <td>36</td>\n",
       "      <td>5</td>\n",
       "    </tr>\n",
       "    <tr>\n",
       "      <th>4</th>\n",
       "      <td>1175</td>\n",
       "      <td>250000.0</td>\n",
       "      <td>5000.0</td>\n",
       "      <td>260000.0</td>\n",
       "      <td>15.0</td>\n",
       "      <td>19</td>\n",
       "      <td>0</td>\n",
       "    </tr>\n",
       "  </tbody>\n",
       "</table>\n",
       "</div>"
      ],
      "text/plain": [
       "   offering_launch_date  offering_size  minimum_investment_amount  \\\n",
       "0                  1295       600000.0                     5000.0   \n",
       "1                  1218       700000.0                     5000.0   \n",
       "2                  1213       270300.0                     5000.0   \n",
       "3                  1195       800000.0                     5000.0   \n",
       "4                  1175       250000.0                     5000.0   \n",
       "\n",
       "   maximum_investment_amount  investor_yield  term  seconds  \n",
       "0                   240000.0            13.0    36        0  \n",
       "1                   280000.0            13.0    36        0  \n",
       "2                   270300.0            20.0    18        0  \n",
       "3                    25000.0            13.0    36        5  \n",
       "4                   260000.0            15.0    19        0  "
      ]
     },
     "execution_count": 228,
     "metadata": {},
     "output_type": "execute_result"
    }
   ],
   "source": [
    "data.seconds = data.seconds.map(lambda x: (int(x>1e+07) + int(x>2e+07) + int(x>3e+07)+int(x>4e+07)+int(x>5e+07)))\n",
    "data.head(5)"
   ]
  },
  {
   "cell_type": "code",
   "execution_count": 172,
   "metadata": {
    "collapsed": true
   },
   "outputs": [],
   "source": [
    "sz = data.shape"
   ]
  },
  {
   "cell_type": "code",
   "execution_count": null,
   "metadata": {
    "collapsed": true
   },
   "outputs": [],
   "source": [
    "from sklearn.model_selection import train_test_split\n"
   ]
  },
  {
   "cell_type": "code",
   "execution_count": 232,
   "metadata": {
    "collapsed": true
   },
   "outputs": [],
   "source": [
    "# train = data.iloc[:int(sz[0] * 0.7), :] # take row 1-256 as training set  \n",
    "# test = data.iloc[int(sz[0] * 0.7):, :]  # take row 257-366 as testing set  \n",
    "# train_X = train.iloc[:,0:5]  \n",
    "# train_Y = train.iloc[:,6]  \n",
    "# test_X = test.iloc[:,0:5]\n",
    "# test_Y = test.iloc[:,6] \n",
    "\n",
    "train_X,test_X,train_Y,test_Y = train_test_split(data.iloc[:,0:5], data.iloc[:,6], test_size=0.33, random_state=42)\n",
    "\n",
    "\n",
    "test_X.reset_index(drop=True,inplace=True)\n",
    "test_Y.reset_index(drop=True,inplace=True)\n",
    "\n",
    "  \n",
    "xg_train = xgb.DMatrix(train_X, label=train_Y)  \n",
    "xg_test = xgb.DMatrix(test_X, label=test_Y)  "
   ]
  },
  {
   "cell_type": "code",
   "execution_count": null,
   "metadata": {
    "collapsed": true
   },
   "outputs": [],
   "source": []
  },
  {
   "cell_type": "code",
   "execution_count": 322,
   "metadata": {
    "scrolled": false
   },
   "outputs": [
    {
     "name": "stdout",
     "output_type": "stream",
     "text": [
      "[0]\ttrain-merror:0.194444\ttest-merror:0.421053\n",
      "[1]\ttrain-merror:0.194444\ttest-merror:0.421053\n",
      "[2]\ttrain-merror:0.194444\ttest-merror:0.421053\n",
      "[3]\ttrain-merror:0.194444\ttest-merror:0.421053\n",
      "[4]\ttrain-merror:0.138889\ttest-merror:0.421053\n",
      "[5]\ttrain-merror:0.138889\ttest-merror:0.421053\n",
      "[6]\ttrain-merror:0.138889\ttest-merror:0.421053\n",
      "[7]\ttrain-merror:0.138889\ttest-merror:0.421053\n",
      "[8]\ttrain-merror:0.111111\ttest-merror:0.368421\n"
     ]
    }
   ],
   "source": [
    "# setup parameters for xgboost  \n",
    "param = {}  \n",
    "# use softmax multi-class classification  \n",
    "param['objective'] = 'multi:softmax'  \n",
    "# scale weight of positive examples  \n",
    "param['eta'] = 0.1  \n",
    "param['max_depth'] = 6  \n",
    "param['silent'] = 1  \n",
    "param['nthread'] = 4  \n",
    "param['num_class'] = 6 \n",
    "param['max_depth'] = 25\n",
    "# param['eval_metric']='mlogloss'\n",
    "param['eval_metric']='merror'\n",
    "num_round = 9\n",
    "\n",
    "watchlist = [ (xg_train,'train'), (xg_test, 'test') ]  \n",
    "bst = xgb.train(param, xg_train, num_round, watchlist );"
   ]
  },
  {
   "cell_type": "code",
   "execution_count": 323,
   "metadata": {},
   "outputs": [
    {
     "data": {
      "text/plain": [
       "array([2., 0., 2., 2., 3., 0., 1., 2., 2., 2., 0., 0., 2., 2., 4., 4., 0.,\n",
       "       0., 2.], dtype=float32)"
      ]
     },
     "execution_count": 323,
     "metadata": {},
     "output_type": "execute_result"
    }
   ],
   "source": [
    "pred = bst.predict(xg_test)\n",
    "pred"
   ]
  },
  {
   "cell_type": "code",
   "execution_count": 324,
   "metadata": {},
   "outputs": [
    {
     "data": {
      "text/plain": [
       "[2, 0, 0, 4, 3, 0, 1, 2, 0, 4, 0, 5, 2, 2, 1, 3, 0, 0, 2]"
      ]
     },
     "execution_count": 324,
     "metadata": {},
     "output_type": "execute_result"
    }
   ],
   "source": [
    "list(test_Y)"
   ]
  },
  {
   "cell_type": "code",
   "execution_count": 325,
   "metadata": {},
   "outputs": [
    {
     "data": {
      "text/plain": [
       "0.631578947368421"
      ]
     },
     "execution_count": 325,
     "metadata": {},
     "output_type": "execute_result"
    }
   ],
   "source": [
    "# get prediction  \n",
    "pred = bst.predict(xg_test);  \n",
    "# pred = np.argmax(pred, axis=1)\n",
    "np.sum(pred == test_Y) / len(test_Y)"
   ]
  },
  {
   "cell_type": "code",
   "execution_count": null,
   "metadata": {
    "collapsed": true
   },
   "outputs": [],
   "source": []
  },
  {
   "cell_type": "code",
   "execution_count": 318,
   "metadata": {
    "collapsed": true
   },
   "outputs": [],
   "source": [
    "# np.array(np.argmax(pred,axis=1))"
   ]
  },
  {
   "cell_type": "code",
   "execution_count": 319,
   "metadata": {
    "collapsed": true,
    "scrolled": true
   },
   "outputs": [],
   "source": [
    "# np.array(train_Y)"
   ]
  },
  {
   "cell_type": "markdown",
   "metadata": {},
   "source": [
    "**softprob**"
   ]
  },
  {
   "cell_type": "code",
   "execution_count": 258,
   "metadata": {
    "scrolled": true
   },
   "outputs": [
    {
     "name": "stdout",
     "output_type": "stream",
     "text": [
      "[0]\ttrain-merror:0.194444\ttest-merror:0.421053\n",
      "[1]\ttrain-merror:0.194444\ttest-merror:0.421053\n",
      "[2]\ttrain-merror:0.194444\ttest-merror:0.421053\n",
      "[3]\ttrain-merror:0.194444\ttest-merror:0.421053\n",
      "[4]\ttrain-merror:0.138889\ttest-merror:0.421053\n",
      "[5]\ttrain-merror:0.138889\ttest-merror:0.421053\n",
      "[6]\ttrain-merror:0.138889\ttest-merror:0.421053\n",
      "[7]\ttrain-merror:0.138889\ttest-merror:0.421053\n",
      "[8]\ttrain-merror:0.111111\ttest-merror:0.368421\n",
      "[9]\ttrain-merror:0.111111\ttest-merror:0.421053\n",
      "[10]\ttrain-merror:0.111111\ttest-merror:0.421053\n",
      "[11]\ttrain-merror:0.111111\ttest-merror:0.421053\n",
      "[12]\ttrain-merror:0.083333\ttest-merror:0.421053\n",
      "[13]\ttrain-merror:0.083333\ttest-merror:0.421053\n",
      "[14]\ttrain-merror:0.083333\ttest-merror:0.421053\n",
      "[15]\ttrain-merror:0.083333\ttest-merror:0.421053\n",
      "[16]\ttrain-merror:0.083333\ttest-merror:0.421053\n",
      "[17]\ttrain-merror:0.055556\ttest-merror:0.421053\n",
      "[18]\ttrain-merror:0.055556\ttest-merror:0.421053\n",
      "[19]\ttrain-merror:0.055556\ttest-merror:0.421053\n",
      "[20]\ttrain-merror:0.055556\ttest-merror:0.421053\n",
      "[21]\ttrain-merror:0.055556\ttest-merror:0.421053\n",
      "[22]\ttrain-merror:0.055556\ttest-merror:0.421053\n",
      "[23]\ttrain-merror:0.027778\ttest-merror:0.421053\n",
      "[24]\ttrain-merror:0.027778\ttest-merror:0.421053\n",
      "[25]\ttrain-merror:0.027778\ttest-merror:0.421053\n",
      "[26]\ttrain-merror:0.027778\ttest-merror:0.421053\n",
      "[27]\ttrain-merror:0.027778\ttest-merror:0.421053\n",
      "[28]\ttrain-merror:0.027778\ttest-merror:0.421053\n",
      "[29]\ttrain-merror:0.027778\ttest-merror:0.421053\n",
      "[30]\ttrain-merror:0.027778\ttest-merror:0.421053\n",
      "[31]\ttrain-merror:0.027778\ttest-merror:0.421053\n",
      "[32]\ttrain-merror:0.027778\ttest-merror:0.421053\n",
      "[33]\ttrain-merror:0.027778\ttest-merror:0.421053\n",
      "[34]\ttrain-merror:0.027778\ttest-merror:0.421053\n",
      "[35]\ttrain-merror:0.027778\ttest-merror:0.421053\n",
      "[36]\ttrain-merror:0.027778\ttest-merror:0.421053\n",
      "[37]\ttrain-merror:0.027778\ttest-merror:0.421053\n",
      "[38]\ttrain-merror:0.027778\ttest-merror:0.421053\n",
      "[39]\ttrain-merror:0\ttest-merror:0.421053\n",
      "[40]\ttrain-merror:0\ttest-merror:0.421053\n",
      "[41]\ttrain-merror:0\ttest-merror:0.421053\n",
      "[42]\ttrain-merror:0\ttest-merror:0.421053\n",
      "[43]\ttrain-merror:0\ttest-merror:0.421053\n",
      "[44]\ttrain-merror:0\ttest-merror:0.421053\n",
      "[45]\ttrain-merror:0\ttest-merror:0.421053\n",
      "[46]\ttrain-merror:0\ttest-merror:0.473684\n",
      "[47]\ttrain-merror:0\ttest-merror:0.473684\n",
      "[48]\ttrain-merror:0\ttest-merror:0.473684\n",
      "[49]\ttrain-merror:0\ttest-merror:0.473684\n",
      "[50]\ttrain-merror:0\ttest-merror:0.473684\n",
      "[51]\ttrain-merror:0\ttest-merror:0.473684\n",
      "[52]\ttrain-merror:0\ttest-merror:0.473684\n",
      "[53]\ttrain-merror:0\ttest-merror:0.473684\n",
      "[54]\ttrain-merror:0\ttest-merror:0.473684\n",
      "[55]\ttrain-merror:0\ttest-merror:0.473684\n",
      "[56]\ttrain-merror:0\ttest-merror:0.473684\n",
      "[57]\ttrain-merror:0\ttest-merror:0.473684\n",
      "[58]\ttrain-merror:0\ttest-merror:0.473684\n",
      "[59]\ttrain-merror:0\ttest-merror:0.473684\n",
      "[60]\ttrain-merror:0\ttest-merror:0.473684\n",
      "[61]\ttrain-merror:0\ttest-merror:0.473684\n",
      "[62]\ttrain-merror:0\ttest-merror:0.473684\n",
      "[63]\ttrain-merror:0\ttest-merror:0.473684\n",
      "[64]\ttrain-merror:0\ttest-merror:0.473684\n",
      "[65]\ttrain-merror:0\ttest-merror:0.473684\n",
      "[66]\ttrain-merror:0\ttest-merror:0.473684\n",
      "[67]\ttrain-merror:0\ttest-merror:0.473684\n",
      "[68]\ttrain-merror:0\ttest-merror:0.473684\n",
      "[69]\ttrain-merror:0\ttest-merror:0.473684\n",
      "[70]\ttrain-merror:0\ttest-merror:0.473684\n",
      "[71]\ttrain-merror:0\ttest-merror:0.421053\n",
      "[72]\ttrain-merror:0\ttest-merror:0.421053\n",
      "[73]\ttrain-merror:0\ttest-merror:0.421053\n",
      "[74]\ttrain-merror:0\ttest-merror:0.421053\n",
      "[75]\ttrain-merror:0\ttest-merror:0.421053\n",
      "[76]\ttrain-merror:0\ttest-merror:0.421053\n",
      "[77]\ttrain-merror:0\ttest-merror:0.421053\n",
      "[78]\ttrain-merror:0\ttest-merror:0.421053\n",
      "[79]\ttrain-merror:0\ttest-merror:0.421053\n",
      "[80]\ttrain-merror:0\ttest-merror:0.421053\n",
      "[81]\ttrain-merror:0\ttest-merror:0.421053\n",
      "[82]\ttrain-merror:0\ttest-merror:0.421053\n",
      "[83]\ttrain-merror:0\ttest-merror:0.421053\n",
      "[84]\ttrain-merror:0\ttest-merror:0.421053\n",
      "[85]\ttrain-merror:0\ttest-merror:0.421053\n",
      "[86]\ttrain-merror:0\ttest-merror:0.421053\n",
      "[87]\ttrain-merror:0\ttest-merror:0.421053\n",
      "[88]\ttrain-merror:0\ttest-merror:0.421053\n",
      "[89]\ttrain-merror:0\ttest-merror:0.421053\n",
      "[90]\ttrain-merror:0\ttest-merror:0.421053\n",
      "[91]\ttrain-merror:0\ttest-merror:0.421053\n",
      "[92]\ttrain-merror:0\ttest-merror:0.421053\n",
      "[93]\ttrain-merror:0\ttest-merror:0.421053\n",
      "[94]\ttrain-merror:0\ttest-merror:0.421053\n",
      "[95]\ttrain-merror:0\ttest-merror:0.421053\n",
      "[96]\ttrain-merror:0\ttest-merror:0.421053\n",
      "[97]\ttrain-merror:0\ttest-merror:0.421053\n",
      "[98]\ttrain-merror:0\ttest-merror:0.421053\n",
      "[99]\ttrain-merror:0\ttest-merror:0.421053\n",
      "predicting, classification error=0.421053\n"
     ]
    }
   ],
   "source": [
    "# do the same thing again, but output probabilities  \n",
    "param['objective'] = 'multi:softprob'  \n",
    "bst = xgb.train(param, xg_train, num_round, watchlist );  \n",
    "# Note: this convention has been changed since xgboost-unity  \n",
    "# get prediction, this is in 1D array, need reshape to (ndata, nclass)  \n",
    "yprob = bst.predict( xg_test ).reshape( test_Y.shape[0], 6 )  \n",
    "ylabel = np.argmax(yprob, axis=1)  # return the index of the biggest pro  \n",
    "  \n",
    "print ('predicting, classification error=%f' % (sum( int(ylabel[i]) != test_Y[i] for i in range(len(test_Y))) / float(len(test_Y)) )) "
   ]
  },
  {
   "cell_type": "code",
   "execution_count": null,
   "metadata": {
    "collapsed": true
   },
   "outputs": [],
   "source": []
  },
  {
   "cell_type": "code",
   "execution_count": 261,
   "metadata": {},
   "outputs": [
    {
     "data": {
      "text/plain": [
       "array([2, 0, 2, 2, 3, 0, 1, 2, 2, 2, 0, 0, 2, 0, 4, 4, 0, 0, 2])"
      ]
     },
     "execution_count": 261,
     "metadata": {},
     "output_type": "execute_result"
    }
   ],
   "source": [
    "ylabel = np.argmax(yprob, axis=1)\n",
    "ylabel"
   ]
  },
  {
   "cell_type": "code",
   "execution_count": 263,
   "metadata": {},
   "outputs": [
    {
     "data": {
      "text/plain": [
       "[2, 0, 0, 4, 3, 0, 1, 2, 0, 4, 0, 5, 2, 2, 1, 3, 0, 0, 2]"
      ]
     },
     "execution_count": 263,
     "metadata": {},
     "output_type": "execute_result"
    }
   ],
   "source": [
    "list(test_Y)"
   ]
  },
  {
   "cell_type": "code",
   "execution_count": 264,
   "metadata": {},
   "outputs": [
    {
     "data": {
      "text/plain": [
       "array([ True,  True, False, False,  True,  True,  True,  True, False,\n",
       "       False,  True, False,  True, False, False, False,  True,  True,\n",
       "        True])"
      ]
     },
     "execution_count": 264,
     "metadata": {},
     "output_type": "execute_result"
    }
   ],
   "source": [
    "ylabel == list(test_Y)"
   ]
  },
  {
   "cell_type": "code",
   "execution_count": 265,
   "metadata": {},
   "outputs": [
    {
     "data": {
      "text/plain": [
       "19"
      ]
     },
     "execution_count": 265,
     "metadata": {},
     "output_type": "execute_result"
    }
   ],
   "source": [
    "len(test_Y)"
   ]
  },
  {
   "cell_type": "code",
   "execution_count": 268,
   "metadata": {},
   "outputs": [
    {
     "data": {
      "text/plain": [
       "0.5789473684210527"
      ]
     },
     "execution_count": 268,
     "metadata": {},
     "output_type": "execute_result"
    }
   ],
   "source": [
    "11/19"
   ]
  },
  {
   "cell_type": "code",
   "execution_count": 327,
   "metadata": {},
   "outputs": [
    {
     "data": {
      "text/plain": [
       "<matplotlib.axes._subplots.AxesSubplot at 0x1a1404fef0>"
      ]
     },
     "execution_count": 327,
     "metadata": {},
     "output_type": "execute_result"
    }
   ],
   "source": [
    "xgb.plot_importance(bst)"
   ]
  },
  {
   "cell_type": "code",
   "execution_count": null,
   "metadata": {
    "collapsed": true
   },
   "outputs": [],
   "source": []
  }
 ],
 "metadata": {
  "kernelspec": {
   "display_name": "Python 3",
   "language": "python",
   "name": "python3"
  },
  "language_info": {
   "codemirror_mode": {
    "name": "ipython",
    "version": 3
   },
   "file_extension": ".py",
   "mimetype": "text/x-python",
   "name": "python",
   "nbconvert_exporter": "python",
   "pygments_lexer": "ipython3",
   "version": "3.6.3"
  }
 },
 "nbformat": 4,
 "nbformat_minor": 2
}
